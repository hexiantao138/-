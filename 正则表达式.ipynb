{
 "cells": [
  {
   "cell_type": "markdown",
   "metadata": {},
   "source": [
    "# re模块的基本使用"
   ]
  },
  {
   "cell_type": "code",
   "execution_count": 4,
   "metadata": {},
   "outputs": [
    {
     "name": "stdout",
     "output_type": "stream",
     "text": [
      "['匹配规则']\n"
     ]
    }
   ],
   "source": [
    "import re\n",
    "a = re.findall(\"^匹配规则\", \"匹配规则这个字符串是否匹配\")  \n",
    "# 字符串开始位置与匹配规则符合就匹配，否则不匹配\n",
    "print(a)"
   ]
  },
  {
   "cell_type": "markdown",
   "metadata": {},
   "source": [
    "# 匹配出除字母外的字符"
   ]
  },
  {
   "cell_type": "code",
   "execution_count": 5,
   "metadata": {},
   "outputs": [
    {
     "name": "stdout",
     "output_type": "stream",
     "text": [
      "['匹', '配', '规', '则', '这', '个', '字', '符', '串', '是', '否', '匹', '配', '规', '则', '则', '则', '则', '则']\n"
     ]
    }
   ],
   "source": [
    "import re\n",
    "a = re.findall(\"[^a-z]\", \"匹配s规则这s个字符串是否s匹配f规则则re则则则\")  \n",
    "# 反取，匹配出除字母外的字符\n",
    "print(a)"
   ]
  },
  {
   "cell_type": "markdown",
   "metadata": {},
   "source": [
    "# 结束位置与匹配"
   ]
  },
  {
   "cell_type": "code",
   "execution_count": 6,
   "metadata": {},
   "outputs": [
    {
     "name": "stdout",
     "output_type": "stream",
     "text": [
      "['匹配规则']\n"
     ]
    }
   ],
   "source": [
    "import re\n",
    "a = re.findall(\"匹配规则$\", \"这个字符串是否匹配规则\")  # 字符串结束位置与匹配\n",
    "print(a)"
   ]
  },
  {
   "cell_type": "markdown",
   "metadata": {},
   "source": [
    "# 元字符"
   ]
  },
  {
   "cell_type": "code",
   "execution_count": 7,
   "metadata": {},
   "outputs": [
    {
     "name": "stdout",
     "output_type": "stream",
     "text": [
      "['匹配规则则则则则']\n"
     ]
    }
   ],
   "source": [
    "import re\n",
    "# 需要字符串里完全符合，匹配规则，就匹配，（规则里的*元字符）前面的\n",
    "# 一个字符可以是0或多个原本字符\n",
    "a = re.findall(\"匹配规则*\", \"这个字符串是否匹配规则则则则则\")\n",
    "print(a)"
   ]
  },
  {
   "cell_type": "markdown",
   "metadata": {},
   "source": [
    "# ？元字符"
   ]
  },
  {
   "cell_type": "code",
   "execution_count": 9,
   "metadata": {},
   "outputs": [
    {
     "name": "stdout",
     "output_type": "stream",
     "text": [
      "['匹配规', '匹配规则']\n"
     ]
    }
   ],
   "source": [
    "# 防止贪婪匹配\n",
    "import re\n",
    "# 需要字符串里完全符合，匹配规则，就匹配，（规则里的?元字符）前面的一个字\n",
    "# 符可以是0个或1个原本字符\n",
    "a = re.findall(\"匹配规则?\", \"匹配规这个字符串是否匹配规则则则则则\")\n",
    "print(a)"
   ]
  },
  {
   "cell_type": "markdown",
   "metadata": {},
   "source": [
    "# {} 元字符"
   ]
  },
  {
   "cell_type": "code",
   "execution_count": 10,
   "metadata": {},
   "outputs": [
    {
     "name": "stdout",
     "output_type": "stream",
     "text": [
      "['匹配规则则则']\n"
     ]
    }
   ],
   "source": [
    "import re\n",
    "# {m}匹配前一个字符m次，{m,n}匹配前一个字符m至n次，若省略n，则匹配m至无限次\n",
    "a = re.findall(\"匹配规则{3}\", \"匹配规这个字符串是否匹配规则则则则则\")\n",
    "print(a)"
   ]
  },
  {
   "cell_type": "markdown",
   "metadata": {},
   "source": [
    "# [] 元字符"
   ]
  },
  {
   "cell_type": "code",
   "execution_count": 11,
   "metadata": {},
   "outputs": [
    {
     "name": "stdout",
     "output_type": "stream",
     "text": [
      "['匹配a规则', '匹配b规则']\n"
     ]
    }
   ],
   "source": [
    "import re\n",
    "# 需要字符串里完全符合，匹配规则，就匹配，（规则里的 [] 元字符）对应位置是[]里的任意一个字符就匹配\n",
    "a = re.findall(\"匹配[a,b,c]规则\", \"匹配a规则这个字符串是否匹配b规则则则则则\")\n",
    "print(a)"
   ]
  },
  {
   "cell_type": "markdown",
   "metadata": {},
   "source": [
    "# 反取"
   ]
  },
  {
   "cell_type": "code",
   "execution_count": 12,
   "metadata": {},
   "outputs": [
    {
     "name": "stdout",
     "output_type": "stream",
     "text": [
      "['匹', '配', '规', '则', '这', '个', '字', '符', '串', '是', '否', '匹', '配', '规', '则', '则', '则', '则', '则']\n"
     ]
    }
   ],
   "source": [
    "import re\n",
    "a = re.findall(\"[^a-z]\", \"匹配s规则这s个字符串是否s匹配f规则则re则则则\")  \n",
    "# 反取，匹配出除字母外的字符\n",
    "print(a)"
   ]
  },
  {
   "cell_type": "markdown",
   "metadata": {},
   "source": [
    "# \\d 取所有数字"
   ]
  },
  {
   "cell_type": "code",
   "execution_count": 13,
   "metadata": {},
   "outputs": [
    {
     "name": "stdout",
     "output_type": "stream",
     "text": [
      "['2', '3', '5', '7']\n"
     ]
    }
   ],
   "source": [
    "import re\n",
    "a = re.findall(\"\\d\", \"匹配规则这2个字符串3是否匹配规则5则则则7则\") \n",
    "# \\d匹配任何十进制数，它相当于类[0-9]\n",
    "print(a)"
   ]
  },
  {
   "cell_type": "markdown",
   "metadata": {},
   "source": [
    "# \\d+ 匹配多位数字"
   ]
  },
  {
   "cell_type": "code",
   "execution_count": 14,
   "metadata": {},
   "outputs": [
    {
     "name": "stdout",
     "output_type": "stream",
     "text": [
      "['2', '134444', '5', '7']\n"
     ]
    }
   ],
   "source": [
    "import re\n",
    "a = re.findall(\"\\d+\", \"匹配规则这2个字符串134444是否匹配规则5则则则7则\") \n",
    "# \\d+如果需要匹配一位或者多位数的数字时用\n",
    "print(a)"
   ]
  },
  {
   "cell_type": "markdown",
   "metadata": {},
   "source": [
    "# 分组匹配"
   ]
  },
  {
   "cell_type": "code",
   "execution_count": 17,
   "metadata": {},
   "outputs": [
    {
     "name": "stdout",
     "output_type": "stream",
     "text": [
      "a466666664\n"
     ]
    }
   ],
   "source": [
    "import re\n",
    "# 也就是分组匹配，()里面的为一个组也可以理解成一个整体\n",
    "# 匹配 (a) (\\d0-9的数字) (+可以是1个到多个0-9的数字)\n",
    "a = re.search(\"a(\\d+)\", \"a466666664a4a4a4dg4g654gb\")\n",
    "b = a.group()\n",
    "print(b)"
   ]
  },
  {
   "cell_type": "code",
   "execution_count": 22,
   "metadata": {},
   "outputs": [
    {
     "name": "stdout",
     "output_type": "stream",
     "text": [
      "hello\n"
     ]
    }
   ],
   "source": [
    "import re\n",
    "\n",
    "# 将正则表达式编译成Pattern对象\n",
    "pattern = re.compile(r'hello')\n",
    "\n",
    "# 使用Pattern匹配文本，获得匹配结果，无法匹配时将返回None\n",
    "match = pattern.match('hello world!')\n",
    "\n",
    "if match:\n",
    "    # 使用Match获得分组信息\n",
    "    print(match.group())"
   ]
  },
  {
   "cell_type": "code",
   "execution_count": 24,
   "metadata": {},
   "outputs": [
    {
     "name": "stdout",
     "output_type": "stream",
     "text": [
      "asdfhellopass:\n",
      "    worldaf\n",
      "b is  []\n",
      "c is  ['pass:\\n    ']\n"
     ]
    }
   ],
   "source": [
    "import re\n",
    "a = '''asdfhellopass:\n",
    "    worldaf'''\n",
    "b = re.findall('hello(.*?)world', a)\n",
    "c = re.findall('hello(.*?)world', a, re.S)\n",
    "print(a)\n",
    "print('b is ', b)\n",
    "print('c is ', c)"
   ]
  },
  {
   "cell_type": "markdown",
   "metadata": {},
   "source": [
    "# re.search(pattern, string[, flags])函数"
   ]
  },
  {
   "cell_type": "markdown",
   "metadata": {},
   "source": [
    "search,浏览全部字符串，匹配第一符合规则的字符串，浏览整个字符串去匹配第一个，未匹配成功返回None\n",
    "search(pattern, string, flags=0)\n",
    "\n",
    "* pattern： 正则模型\n",
    "* string ： 要匹配的字符串\n",
    "* falgs ： 匹配模式"
   ]
  },
  {
   "cell_type": "code",
   "execution_count": 26,
   "metadata": {},
   "outputs": [
    {
     "name": "stdout",
     "output_type": "stream",
     "text": [
      "alex\n",
      "()\n",
      "{}\n"
     ]
    }
   ],
   "source": [
    "import re\n",
    "# 无分组\n",
    "origin = \"hello alex bcd alex lge alex acd 19\"\n",
    "# search浏览全部字符串，匹配第一符合规则的字符串，浏览整个字符串去匹配第一个，未匹配成功返回None\n",
    "r = re.search(\"a\\w+\", origin)\n",
    "print(r.group())  # 获取匹配到的所有结果，不管有没有分组将匹配到的全部拿出来\n",
    "print(r.groups())  # 获取模型中匹配到的分组结果，只拿出匹配到的字符串中分组部分的结果\n",
    "print(r.groupdict())  # 获取模型中匹配到的分组结果，只拿出匹配到的字符串中分组部分定义了key的组结果"
   ]
  },
  {
   "cell_type": "markdown",
   "metadata": {},
   "source": [
    "# re.split(pattern, string[, maxsplit])函数"
   ]
  },
  {
   "cell_type": "markdown",
   "metadata": {},
   "source": [
    "根据正则匹配分割字符串，返回分割后的一个列表\n",
    "split(pattern, string, maxsplit=0, flags=0)\n",
    "\n",
    "* pattern： 正则模型\n",
    "* string ： 要匹配的字符串\n",
    "* maxsplit：指定分割个数\n",
    "* flags ： 匹配模式"
   ]
  },
  {
   "cell_type": "code",
   "execution_count": 27,
   "metadata": {},
   "outputs": [
    {
     "name": "stdout",
     "output_type": "stream",
     "text": [
      "['hello ', ' bcd ', ' lge ', ' 2', ' 19']\n"
     ]
    }
   ],
   "source": [
    "import re\n",
    "origin = \"hello alex bcd alex lge alex 2acd 19\"\n",
    "r = re.split(\"a\\w+\", origin)  # 根据正则匹配分割字符串\n",
    "print(r)"
   ]
  },
  {
   "cell_type": "markdown",
   "metadata": {},
   "source": [
    "# re.sub(pattern, repl, string[, count])函数"
   ]
  },
  {
   "cell_type": "markdown",
   "metadata": {},
   "source": [
    "替换匹配成功的指定位置字符串\n",
    "sub(pattern, repl, string, count=0, flags=0)\n",
    "\n",
    "* pattern： 正则模型\n",
    "* repl ： 要替换的字符串\n",
    "* string ： 要匹配的字符串\n",
    "* count ： 指定匹配个数\n",
    "* flags ： 匹配模式"
   ]
  },
  {
   "cell_type": "code",
   "execution_count": 28,
   "metadata": {},
   "outputs": [
    {
     "name": "stdout",
     "output_type": "stream",
     "text": [
      "hello 替换 bcd 替换 lge 替换 替换 19\n"
     ]
    }
   ],
   "source": [
    "import re\n",
    "origin = \"hello alex bcd alex lge alex acd 19\"\n",
    "r = re.sub(\"a\\w+\", \"替换\", origin)  # 替换匹配成功的指定位置字符串\n",
    "print(r)"
   ]
  },
  {
   "cell_type": "markdown",
   "metadata": {},
   "source": [
    "# 计算器"
   ]
  },
  {
   "cell_type": "markdown",
   "metadata": {},
   "source": [
    "基于递归和正则将下面的字符串翻译成计算器表达式，并且获取最终结果：\n",
    "expression='-1-2*((60+2*(-3-40.0+42425/5)*(9-2*5/3+357/553/3*99/4*2998+10*568/14))-(-4*3)/(16-3*2))+56+(56-45)'"
   ]
  },
  {
   "cell_type": "code",
   "execution_count": 29,
   "metadata": {},
   "outputs": [
    {
     "name": "stdout",
     "output_type": "stream",
     "text": [
      "******************** 请计算表达式： 1 - 2 * ( (60-30 +(-40.0/5) * (9-2*5/3 + 7 /3*99/4*2998 +10 * 568/14 )) - (-4*3)/ (16-3*2) ) ********************\n",
      "before： -1-2*((60+2*(-3-40.0+42425/5)*(9-2*5/3+357/553/3*99/4*2998+10*568/14))-(-4*3)/(16-3*2))+56+(56-45)\n",
      "-3-40.0+42425/5=8442.0\n",
      "after： -1-2*((60+2*8442.0*(9-2*5/3+357/553/3*99/4*2998+10*568/14))-(-4*3)/(16-3*2))+56+(56-45)\n",
      "========== 上一次计算结束 ==========\n",
      "before： -1-2*((60+2*8442.0*(9-2*5/3+357/553/3*99/4*2998+10*568/14))-(-4*3)/(16-3*2))+56+(56-45)\n",
      "9-2*5/3+357/553/3*99/4*2998+10*568/14=16378.577154912598\n",
      "after： -1-2*((60+2*8442.0*16378.577154912598)-(-4*3)/(16-3*2))+56+(56-45)\n",
      "========== 上一次计算结束 ==========\n",
      "before： -1-2*((60+2*8442.0*16378.577154912598)-(-4*3)/(16-3*2))+56+(56-45)\n",
      "60+2*8442.0*16378.577154912598=276535956.68354434\n",
      "after： -1-2*(276535956.68354434-(-4*3)/(16-3*2))+56+(56-45)\n",
      "========== 上一次计算结束 ==========\n",
      "before： -1-2*(276535956.68354434-(-4*3)/(16-3*2))+56+(56-45)\n",
      "-4*3=-12.0\n",
      "after： -1-2*(276535956.68354434--12.0/(16-3*2))+56+(56-45)\n",
      "========== 上一次计算结束 ==========\n",
      "before： -1-2*(276535956.68354434--12.0/(16-3*2))+56+(56-45)\n",
      "16-3*2=10.0\n",
      "after： -1-2*(276535956.68354434--12.0/10.0)+56+(56-45)\n",
      "========== 上一次计算结束 ==========\n",
      "before： -1-2*(276535956.68354434--12.0/10.0)+56+(56-45)\n",
      "276535956.68354434--12.0/10.0=276535957.8835443\n",
      "after： -1-2*276535957.8835443+56+(56-45)\n",
      "========== 上一次计算结束 ==========\n",
      "before： -1-2*276535957.8835443+56+(56-45)\n",
      "56-45=11.0\n",
      "after： -1-2*276535957.8835443+56+11.0\n",
      "========== 上一次计算结束 ==========\n",
      "-553071849.7670887\n"
     ]
    }
   ],
   "source": [
    "# -*- coding:utf-8 -*-\n",
    "\"\"\"\n",
    "该计算器思路：\n",
    "    1、递归寻找表达式中只含有 数字和运算符的表达式，并计算结果\n",
    "    2、由于整数计算会忽略小数，所有的数字都认为是浮点型操作，以此来保留小数\n",
    "使用技术：\n",
    "    1、正则表达式\n",
    "    2、递归\n",
    "\"\"\"\n",
    "\n",
    "import re\n",
    "\n",
    "\n",
    "def compute_mul_div(arg):\n",
    "    \"\"\" 操作乘除\n",
    "    :param expression:表达式\n",
    "    :return:计算结果\n",
    "    \"\"\"\n",
    "\n",
    "    val = arg[0]\n",
    "    mch = re.search('\\d+\\.*\\d*[\\*\\/]+[\\+\\-]?\\d+\\.*\\d*', val)\n",
    "    if not mch:\n",
    "        return\n",
    "    content = re.search('\\d+\\.*\\d*[\\*\\/]+[\\+\\-]?\\d+\\.*\\d*', val).group()\n",
    "\n",
    "    if len(content.split('*')) > 1:\n",
    "        n1, n2 = content.split('*')\n",
    "        value = float(n1) * float(n2)\n",
    "    else:\n",
    "        n1, n2 = content.split('/')\n",
    "        value = float(n1) / float(n2)\n",
    "\n",
    "    before, after = re.split('\\d+\\.*\\d*[\\*\\/]+[\\+\\-]?\\d+\\.*\\d*', val, 1)\n",
    "    new_str = \"%s%s%s\" % (before, value, after)\n",
    "    arg[0] = new_str\n",
    "    compute_mul_div(arg)\n",
    "\n",
    "\n",
    "def compute_add_sub(arg):\n",
    "    \"\"\" 操作加减\n",
    "    :param expression:表达式\n",
    "    :return:计算结果\n",
    "    \"\"\"\n",
    "    while True:\n",
    "        if arg[0].__contains__('+-') or arg[0].__contains__(\"++\") or arg[\n",
    "                0].__contains__('-+') or arg[0].__contains__(\"--\"):\n",
    "            arg[0] = arg[0].replace('+-', '-')\n",
    "            arg[0] = arg[0].replace('++', '+')\n",
    "            arg[0] = arg[0].replace('-+', '-')\n",
    "            arg[0] = arg[0].replace('--', '+')\n",
    "        else:\n",
    "            break\n",
    "\n",
    "    if arg[0].startswith('-'):\n",
    "        arg[1] += 1\n",
    "        arg[0] = arg[0].replace('-', '&amp;')\n",
    "        arg[0] = arg[0].replace('+', '-')\n",
    "        arg[0] = arg[0].replace('&amp;', '+')\n",
    "        arg[0] = arg[0][1:]\n",
    "    val = arg[0]\n",
    "    mch = re.search('\\d+\\.*\\d*[\\+\\-]{1}\\d+\\.*\\d*', val)\n",
    "    if not mch:\n",
    "        return\n",
    "    content = re.search('\\d+\\.*\\d*[\\+\\-]{1}\\d+\\.*\\d*', val).group()\n",
    "    if len(content.split('+')) > 1:\n",
    "        n1, n2 = content.split('+')\n",
    "        value = float(n1) + float(n2)\n",
    "    else:\n",
    "        n1, n2 = content.split('-')\n",
    "        value = float(n1) - float(n2)\n",
    "\n",
    "    before, after = re.split('\\d+\\.*\\d*[\\+\\-]{1}\\d+\\.*\\d*', val, 1)\n",
    "    new_str = \"%s%s%s\" % (before, value, after)\n",
    "    arg[0] = new_str\n",
    "    compute_add_sub(arg)\n",
    "\n",
    "\n",
    "def compute(expression):\n",
    "    \"\"\" 操作加减乘除\n",
    "    :param expression:表达式\n",
    "    :return:计算结果\n",
    "    \"\"\"\n",
    "    inp = [expression, 0]\n",
    "\n",
    "    # 处理表达式中的乘除\n",
    "    compute_mul_div(inp)\n",
    "\n",
    "    # 处理\n",
    "    compute_add_sub(inp)\n",
    "    if divmod(inp[1], 2)[1] == 1:\n",
    "        result = float(inp[0])\n",
    "        result = result * -1\n",
    "    else:\n",
    "        result = float(inp[0])\n",
    "    return result\n",
    "\n",
    "\n",
    "def exec_bracket(expression):\n",
    "    \"\"\" 递归处理括号，并计算\n",
    "    :param expression: 表达式\n",
    "    :return:最终计算结果\n",
    "    \"\"\"\n",
    "    # 如果表达式中已经没有括号，则直接调用负责计算的函数，将表达式结果返回，如：2*1-82+444\n",
    "    if not re.search('\\(([\\+\\-\\*\\/]*\\d+\\.*\\d*){2,}\\)', expression):\n",
    "        final = compute(expression)\n",
    "        return final\n",
    "    # 获取 第一个 只含有 数字/小数 和 操作符 的括号\n",
    "    # 如：\n",
    "    #    ['1-2*((60-30+(-40.0/5)*(9-2*5/3+7/3*99/4*2998+10*568/14))-(-4*3)/(16-3*2))']\n",
    "    #    找出：(-40.0/5)\n",
    "    content = re.search('\\(([\\+\\-\\*\\/]*\\d+\\.*\\d*){2,}\\)', expression).group()\n",
    "\n",
    "    # 分割表达式，即：\n",
    "    # 将['1-2*((60-30+(-40.0/5)*(9-2*5/3+7/3*99/4*2998+10*568/14))-(-4*3)/(16-3*2))']\n",
    "    # 分割更三部分：['1-2*((60-30+(    (-40.0/5)      *(9-2*5/3+7/3*99/4*2998+10*568/14))-(-4*3)/(16-3*2))']\n",
    "    before, nothing, after = re.split('\\(([\\+\\-\\*\\/]*\\d+\\.*\\d*){2,}\\)',\n",
    "                                      expression, 1)\n",
    "\n",
    "    print('before：', expression)\n",
    "    content = content[1:len(content) - 1]\n",
    "\n",
    "    # 计算，提取的表示 (-40.0/5)，并活的结果，即：-40.0/5=-8.0\n",
    "    ret = compute(content)\n",
    "\n",
    "    print('%s=%s' % (content, ret))\n",
    "\n",
    "    # 将执行结果拼接，['1-2*((60-30+(      -8.0     *(9-2*5/3+7/3*99/4*2998+10*568/14))-(-4*3)/(16-3*2))']\n",
    "    expression = \"%s%s%s\" % (before, ret, after)\n",
    "    print('after：', expression)\n",
    "    print(\"=\" * 10, '上一次计算结束', \"=\" * 10)\n",
    "\n",
    "    # 循环继续下次括号处理操作，本次携带者的是已被处理后的表达式，即：\n",
    "    # ['1-2*((60-30+   -8.0  *(9-2*5/3+7/3*99/4*2998+10*568/14))-(-4*3)/(16-3*2))']\n",
    "\n",
    "    # 如此周而复始的操作，直到表达式中不再含有括号\n",
    "    return exec_bracket(expression)\n",
    "\n",
    "\n",
    "# 使用 __name__ 的目的：\n",
    "# 只有执行 python index.py 时，以下代码才执行\n",
    "# 如果其他人导入该模块，以下代码不执行\n",
    "if __name__ == \"__main__\":\n",
    "    print(\n",
    "        '*' * 20, \"请计算表达式：\",\n",
    "        \"1 - 2 * ( (60-30 +(-40.0/5) * (9-2*5/3 + 7 /3*99/4*2998 +10 * 568/14 )) - (-4*3)/ (16-3*2) )\",\n",
    "        '*' * 20)\n",
    "    #     inpp = '1 - 2 * ( (60-30 +(-40.0/5) * (9-2*5/3 + 7 /3*99/4*2998 +10 * 568/14 )) - (-4*3)/ (16-3*2) ) '\n",
    "    inpp = '-1-2*((60+2*(-3-40.0+42425/5)*(9-2*5/3+357/553/3*99/4*2998+10*568/14))-(-4*3)/(16-3*2))+56+(56-45)'\n",
    "    # inpp = \"1-2*-30/-12*(-20+200*-3/-200*-300-100)\"\n",
    "    # inpp = \"1-5*980.0\"\n",
    "    inpp = re.sub('\\s*', '', inpp)\n",
    "    # 表达式保存在列表中\n",
    "    result = exec_bracket(inpp)\n",
    "    print(result)"
   ]
  },
  {
   "cell_type": "code",
   "execution_count": null,
   "metadata": {},
   "outputs": [],
   "source": []
  },
  {
   "cell_type": "code",
   "execution_count": null,
   "metadata": {},
   "outputs": [],
   "source": []
  }
 ],
 "metadata": {
  "kernelspec": {
   "display_name": "Python 3",
   "language": "python",
   "name": "python3"
  },
  "language_info": {
   "codemirror_mode": {
    "name": "ipython",
    "version": 3
   },
   "file_extension": ".py",
   "mimetype": "text/x-python",
   "name": "python",
   "nbconvert_exporter": "python",
   "pygments_lexer": "ipython3",
   "version": "3.7.3"
  }
 },
 "nbformat": 4,
 "nbformat_minor": 2
}
